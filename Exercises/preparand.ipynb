{
 "cells": [
  {
   "cell_type": "code",
   "execution_count": 11,
   "metadata": {},
   "outputs": [
    {
     "name": "stdout",
     "output_type": "stream",
     "text": [
      "Hej, jag lär mig Python! 42 3.14\n"
     ]
    }
   ],
   "source": [
    "min_string = \"Hej, jag lär mig Python!\"\n",
    "\n",
    "mitt_heltal = 42\n",
    "\n",
    "mitt_flyttal = 3.14\n",
    "\n",
    "print(min_string, mitt_heltal, mitt_flyttal)"
   ]
  },
  {
   "cell_type": "code",
   "execution_count": 19,
   "metadata": {},
   "outputs": [
    {
     "name": "stdout",
     "output_type": "stream",
     "text": [
      "[10, 20, 40, 50, 60]\n"
     ]
    }
   ],
   "source": [
    "min_lista = [10, 20, 30, 40, 50]\n",
    "\n",
    "min_lista.append(60)\n",
    "\n",
    "min_lista.remove(30)\n",
    "\n",
    "print(min_lista)"
   ]
  },
  {
   "cell_type": "code",
   "execution_count": 27,
   "metadata": {},
   "outputs": [
    {
     "data": {
      "text/plain": [
       "{'äpple': 10, 'banan': 30, 'päron': 15, 'apelsin': 25}"
      ]
     },
     "execution_count": 27,
     "metadata": {},
     "output_type": "execute_result"
    }
   ],
   "source": [
    "min_dictionary = {\"äpple\": 10,\n",
    "                  \"banan\": 20,\n",
    "                  \"päron\": 15}\n",
    "\n",
    "min_dictionary[\"apelsin\"] = 25\n",
    "\n",
    "min_dictionary[\"banan\"] = 30\n",
    "\n",
    "min_dictionary"
   ]
  },
  {
   "cell_type": "code",
   "execution_count": 44,
   "metadata": {},
   "outputs": [
    {
     "name": "stdout",
     "output_type": "stream",
     "text": [
      "Mitt namn är Apti och jag är 29 år gammal.\n"
     ]
    }
   ],
   "source": [
    "namn = \"Apti\"\n",
    "\n",
    "ålder = 29\n",
    "\n",
    "print (\"Mitt namn är\", namn, \"och jag är\", ålder, \"år gammal.\")"
   ]
  },
  {
   "cell_type": "code",
   "execution_count": 45,
   "metadata": {},
   "outputs": [
    {
     "name": "stdout",
     "output_type": "stream",
     "text": [
      "Resultatet av summa är 15 och av produkt är 50\n"
     ]
    }
   ],
   "source": [
    "x = 5\n",
    "y = 10\n",
    "summa = x + y\n",
    "\n",
    "produkt = x * y\n",
    "\n",
    "print(\"Resultatet av summa är\", summa, \"och av produkt är\", produkt)"
   ]
  },
  {
   "cell_type": "code",
   "execution_count": 54,
   "metadata": {},
   "outputs": [
    {
     "name": "stdout",
     "output_type": "stream",
     "text": [
      "1\n",
      "-1\n"
     ]
    }
   ],
   "source": [
    "counter = 0\n",
    "counter += 1\n",
    "print(counter)\n",
    "counter -= 2\n",
    "print(counter)"
   ]
  },
  {
   "cell_type": "code",
   "execution_count": 1,
   "metadata": {},
   "outputs": [
    {
     "name": "stdout",
     "output_type": "stream",
     "text": [
      "Du heter Apti\n"
     ]
    }
   ],
   "source": [
    "anvandarenamnet = input(\"Vad heter du\")\n",
    "print(f\"Du heter {anvandarenamnet}\")\n"
   ]
  },
  {
   "cell_type": "code",
   "execution_count": 7,
   "metadata": {},
   "outputs": [
    {
     "name": "stdout",
     "output_type": "stream",
     "text": [
      "Summan av bägge är 7\n"
     ]
    }
   ],
   "source": [
    "tal1 = input(\"Vad är första talet?\")\n",
    "\n",
    "tal2 = input(\"Vad är andra talet?\")\n",
    "\n",
    "tal1 = int(tal1)\n",
    "\n",
    "tal2 = int(tal2)\n",
    "\n",
    "summan = tal2 + tal1\n",
    "\n",
    "print(\"Summan av bägge är\", summan)\n",
    "\n"
   ]
  },
  {
   "cell_type": "code",
   "execution_count": 8,
   "metadata": {},
   "outputs": [
    {
     "name": "stdout",
     "output_type": "stream",
     "text": [
      "129.2\n"
     ]
    }
   ],
   "source": [
    "celsius = float(input(\"Ange temperatur i celsius?\"))\n",
    "\n",
    "fahrenheit = (celsius * 9/5) + 32\n",
    "\n",
    "print (fahrenheit)"
   ]
  },
  {
   "cell_type": "code",
   "execution_count": 4,
   "metadata": {},
   "outputs": [
    {
     "name": "stdout",
     "output_type": "stream",
     "text": [
      "Summan av de två talen är: 12\n"
     ]
    }
   ],
   "source": [
    "def addera(a, b):\n",
    "    return a + b\n",
    "    \n",
    "resultat = addera(5,7)\n",
    "\n",
    "print(\"Summan av de två talen är:\",resultat)"
   ]
  },
  {
   "cell_type": "code",
   "execution_count": 14,
   "metadata": {},
   "outputs": [
    {
     "name": "stdout",
     "output_type": "stream",
     "text": [
      "Tjena, Apti!\n"
     ]
    }
   ],
   "source": [
    "def hälsa(namn):\n",
    "    return \"Tjena, \" + namn + \"!\"\n",
    "\n",
    "name = hälsa(\"Apti\")\n",
    "\n",
    "print(name)"
   ]
  },
  {
   "cell_type": "code",
   "execution_count": 18,
   "metadata": {},
   "outputs": [
    {
     "name": "stdout",
     "output_type": "stream",
     "text": [
      "Omkrets av cirkeln är: 18.85  Arean av cirkeln är: 28.27\n"
     ]
    }
   ],
   "source": [
    "import math as mt\n",
    "\n",
    "def cirkel_geometri(radie): \n",
    "    omkrets = 2*mt.pi*radie \n",
    "    area = mt.pi*radie**2\n",
    "    return (omkrets, area)\n",
    "\n",
    "radie = float(input(\"write your radie\"))\n",
    "omkrets, area = cirkel_geometri(radie)\n",
    "\n",
    "\n",
    "print(f\"Omkrets av cirkeln är: {omkrets:.2f}  Arean av cirkeln är: {area:.2f}\")"
   ]
  },
  {
   "cell_type": "code",
   "execution_count": 20,
   "metadata": {},
   "outputs": [
    {
     "name": "stdout",
     "output_type": "stream",
     "text": [
      "[1, 2, 4, 5, 6]\n"
     ]
    }
   ],
   "source": [
    "tal_lista = [1, 2, 3, 4, 5]\n",
    "\n",
    "tal_lista.append(6)\n",
    "\n",
    "tal_lista.remove(3) \n",
    "\n",
    "print(tal_lista)"
   ]
  },
  {
   "cell_type": "code",
   "execution_count": 42,
   "metadata": {},
   "outputs": [
    {
     "name": "stdout",
     "output_type": "stream",
     "text": [
      "Isak = 25\n",
      "Gustaf = 27\n",
      "Malin = 30\n",
      "Claire = 19\n"
     ]
    }
   ],
   "source": [
    "personer = {\n",
    "\"Isak\":25,\n",
    "\"Gustaf\":26,\n",
    "\"Malin\":30\n",
    "}\n",
    "\n",
    "personer[\"Claire\"] = 19\n",
    "\n",
    "personer[\"Gustaf\"] = 27\n",
    "\n",
    "for person, age in personer.items():\n",
    "    print(person, \"=\", age)"
   ]
  },
  {
   "cell_type": "code",
   "execution_count": 53,
   "metadata": {},
   "outputs": [
    {
     "name": "stdout",
     "output_type": "stream",
     "text": [
      "{1, 2, 4, 5, 6, 7, 8}\n"
     ]
    }
   ],
   "source": [
    "unik_set = {1,2,3,4,5}\n",
    "unik_set.add(6)\n",
    "unik_set.remove(3)\n",
    "\n",
    "new_list = [4,5,6,7,8]\n",
    "ny_set = unik_set.union(new_list)\n",
    "print(ny_set)\n"
   ]
  },
  {
   "cell_type": "code",
   "execution_count": 78,
   "metadata": {},
   "outputs": [
    {
     "name": "stdout",
     "output_type": "stream",
     "text": [
      "Python är kul\n",
      "Python är fantastiskt\n"
     ]
    }
   ],
   "source": [
    "text = \"Python är kul\"\n",
    "\n",
    "ny_text = text.replace(\"kul\", \"fantastiskt\")\n",
    "\n",
    "print(text)\n",
    "print(ny_text)"
   ]
  },
  {
   "cell_type": "code",
   "execution_count": 85,
   "metadata": {},
   "outputs": [
    {
     "name": "stdout",
     "output_type": "stream",
     "text": [
      "['äpple', 'kiwi', 'banan']\n"
     ]
    }
   ],
   "source": [
    "frukt_lista = [\"äpple\", \"päron\", \"banan\"]\n",
    "frukt_lista[1] = \"kiwi\"\n",
    "print(frukt_lista)"
   ]
  },
  {
   "cell_type": "code",
   "execution_count": 2,
   "metadata": {},
   "outputs": [
    {
     "name": "stdout",
     "output_type": "stream",
     "text": [
      "[1, 2, 3, 4]\n",
      "9\n",
      "nummer lista efer funkton [1, 2, 3, 4]\n",
      "nummer efter funktion 5\n"
     ]
    }
   ],
   "source": [
    "def append_fyra(lista):\n",
    "    lista.append(4)\n",
    "    print(lista)\n",
    "\n",
    "    \n",
    "def addera_fyra(tal):\n",
    "    tal += 4\n",
    "    print(tal)\n",
    "    \n",
    "\n",
    "\n",
    "nummer_lista = [1,2,3]\n",
    "\n",
    "nummer = 5\n",
    "\n",
    "append_fyra(nummer_lista)\n",
    "\n",
    "addera_fyra(nummer)\n",
    "\n",
    "print(\"nummer lista efer funkton\", nummer_lista)\n",
    "\n",
    "print(\"nummer efter funktion\", nummer)\n",
    "\n",
    "\n",
    "\n",
    "\n",
    "    "
   ]
  },
  {
   "cell_type": "code",
   "execution_count": 30,
   "metadata": {},
   "outputs": [
    {
     "name": "stdout",
     "output_type": "stream",
     "text": [
      "Scooby says: Woff, woff!\n",
      "Courage says: Woff, woff!\n",
      "Scooby och rasen är Dobberman\n"
     ]
    }
   ],
   "source": [
    "class Hund:\n",
    "    def __init__(self, namn, ras):\n",
    "        self.namn = namn\n",
    "        self.ras = ras\n",
    "        \n",
    "    def skäll(self):\n",
    "        print(f\"{self.namn} says: Woff, woff!\")\n",
    "        \n",
    "h1 = Hund(\"Scooby\", \"Dobberman\")\n",
    "h2 = Hund(\"Courage\", \"Rotweller\")\n",
    "\n",
    "h1.skäll()\n",
    "h2.skäll()\n",
    "\n",
    "print(h1.namn, \"och rasen är\", h1.ras)\n",
    "        \n"
   ]
  },
  {
   "cell_type": "code",
   "execution_count": 29,
   "metadata": {},
   "outputs": [
    {
     "name": "stdout",
     "output_type": "stream",
     "text": [
      "Märke: Volvo, Modell: S80, Årsmodell: 2020\n"
     ]
    }
   ],
   "source": [
    "class Bil:\n",
    "    def __init__(self, märke, modell, årsmodell):\n",
    "        self.märke = märke\n",
    "        self.modell = modell\n",
    "        self.årsmodell = årsmodell\n",
    "    \n",
    "    def info(self):        \n",
    "        return f\"Märke: {self.märke}, Modell: {self.modell}, Årsmodell: {self.årsmodell}\"\n",
    "\n",
    "b1 = Bil(\"Volvo\", \"S80\", 2020)\n",
    "print(b1.info())"
   ]
  },
  {
   "cell_type": "code",
   "execution_count": null,
   "metadata": {},
   "outputs": [],
   "source": []
  }
 ],
 "metadata": {
  "kernelspec": {
   "display_name": ".venv",
   "language": "python",
   "name": "python3"
  },
  "language_info": {
   "codemirror_mode": {
    "name": "ipython",
    "version": 3
   },
   "file_extension": ".py",
   "mimetype": "text/x-python",
   "name": "python",
   "nbconvert_exporter": "python",
   "pygments_lexer": "ipython3",
   "version": "3.11.0"
  }
 },
 "nbformat": 4,
 "nbformat_minor": 2
}
