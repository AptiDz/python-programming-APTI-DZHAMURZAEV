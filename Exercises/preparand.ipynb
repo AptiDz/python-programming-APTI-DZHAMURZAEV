{
 "cells": [
  {
   "cell_type": "code",
   "execution_count": 11,
   "metadata": {},
   "outputs": [
    {
     "name": "stdout",
     "output_type": "stream",
     "text": [
      "Hej, jag lär mig Python! 42 3.14\n"
     ]
    }
   ],
   "source": [
    "min_string = \"Hej, jag lär mig Python!\"\n",
    "\n",
    "mitt_heltal = 42\n",
    "\n",
    "mitt_flyttal = 3.14\n",
    "\n",
    "print(min_string, mitt_heltal, mitt_flyttal)"
   ]
  },
  {
   "cell_type": "code",
   "execution_count": 19,
   "metadata": {},
   "outputs": [
    {
     "name": "stdout",
     "output_type": "stream",
     "text": [
      "[10, 20, 40, 50, 60]\n"
     ]
    }
   ],
   "source": [
    "min_lista = [10, 20, 30, 40, 50]\n",
    "\n",
    "min_lista.append(60)\n",
    "\n",
    "min_lista.remove(30)\n",
    "\n",
    "print(min_lista)"
   ]
  },
  {
   "cell_type": "code",
   "execution_count": 27,
   "metadata": {},
   "outputs": [
    {
     "data": {
      "text/plain": [
       "{'äpple': 10, 'banan': 30, 'päron': 15, 'apelsin': 25}"
      ]
     },
     "execution_count": 27,
     "metadata": {},
     "output_type": "execute_result"
    }
   ],
   "source": [
    "min_dictionary = {\"äpple\": 10,\n",
    "                  \"banan\": 20,\n",
    "                  \"päron\": 15}\n",
    "\n",
    "min_dictionary[\"apelsin\"] = 25\n",
    "\n",
    "min_dictionary[\"banan\"] = 30\n",
    "\n",
    "min_dictionary"
   ]
  },
  {
   "cell_type": "code",
   "execution_count": 44,
   "metadata": {},
   "outputs": [
    {
     "name": "stdout",
     "output_type": "stream",
     "text": [
      "Mitt namn är Apti och jag är 29 år gammal.\n"
     ]
    }
   ],
   "source": [
    "namn = \"Apti\"\n",
    "\n",
    "ålder = 29\n",
    "\n",
    "print (\"Mitt namn är\", namn, \"och jag är\", ålder, \"år gammal.\")"
   ]
  },
  {
   "cell_type": "code",
   "execution_count": 45,
   "metadata": {},
   "outputs": [
    {
     "name": "stdout",
     "output_type": "stream",
     "text": [
      "Resultatet av summa är 15 och av produkt är 50\n"
     ]
    }
   ],
   "source": [
    "x = 5\n",
    "y = 10\n",
    "summa = x + y\n",
    "\n",
    "produkt = x * y\n",
    "\n",
    "print(\"Resultatet av summa är\", summa, \"och av produkt är\", produkt)"
   ]
  },
  {
   "cell_type": "code",
   "execution_count": 54,
   "metadata": {},
   "outputs": [
    {
     "name": "stdout",
     "output_type": "stream",
     "text": [
      "1\n",
      "-1\n"
     ]
    }
   ],
   "source": [
    "counter = 0\n",
    "counter += 1\n",
    "print(counter)\n",
    "counter -= 2\n",
    "print(counter)"
   ]
  },
  {
   "cell_type": "code",
   "execution_count": null,
   "metadata": {},
   "outputs": [],
   "source": []
  }
 ],
 "metadata": {
  "kernelspec": {
   "display_name": ".venv",
   "language": "python",
   "name": "python3"
  },
  "language_info": {
   "codemirror_mode": {
    "name": "ipython",
    "version": 3
   },
   "file_extension": ".py",
   "mimetype": "text/x-python",
   "name": "python",
   "nbconvert_exporter": "python",
   "pygments_lexer": "ipython3",
   "version": "3.11.0"
  }
 },
 "nbformat": 4,
 "nbformat_minor": 2
}
