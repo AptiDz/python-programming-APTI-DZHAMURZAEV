{
 "cells": [
  {
   "cell_type": "markdown",
   "metadata": {},
   "source": [
    "\n",
    "<a href=\"https://colab.research.google.com/github/pr0fez/AI24-Programmering/blob/master/Exercises/06-functions-exericse.ipynb\" target=\"_parent\"><img align=\"left\" src=\"https://colab.research.google.com/assets/colab-badge.svg\" alt=\"Open In Colab\"/></a> &nbsp; to see hints and answers."
   ]
  },
  {
   "cell_type": "markdown",
   "metadata": {},
   "source": [
    "# functions exercises\n",
    "\n",
    "---\n",
    "These are introductory exercises in Python with focus in **functions**.\n",
    "\n",
    "<p class = \"alert alert-info\" role=\"alert\"><b>Remember</b> to use <b>descriptive variable and function names</b> in order to get readable code </p>\n",
    "\n",
    "<p class = \"alert alert-info\" role=\"alert\"><b>Remember</b> to format your answers in a neat way using <b>f-strings</b>\n",
    "\n",
    "<p class = \"alert alert-info\" role=\"alert\"><b>Remember</b> to format your input questions in a pedagogical way to guide the user\n",
    "\n",
    "The number of stars (\\*), (\\*\\*), (\\*\\*\\*) denotes the difficulty level of the task\n",
    "\n",
    "---"
   ]
  },
  {
   "cell_type": "markdown",
   "metadata": {},
   "source": [
    "## 1. Area (*)\n",
    "\n",
    "Create a function that takes the base and height of a triangle as input parameters and returns the area of the triangle."
   ]
  },
  {
   "cell_type": "code",
   "execution_count": 5,
   "metadata": {},
   "outputs": [
    {
     "name": "stdout",
     "output_type": "stream",
     "text": [
      "The area for the triangle is 2.0\n"
     ]
    }
   ],
   "source": [
    "def area_triangle():\n",
    "    base = int(input(\"Whats the base of the triangle?\"))\n",
    "    height = int(input(\"Whats the height of the triangle?\"))\n",
    "    area = (base * height)/2\n",
    "    return print(f\"The area for the triangle is {area}\")\n",
    "\n",
    "area_triangle()"
   ]
  },
  {
   "cell_type": "markdown",
   "metadata": {},
   "source": [
    "---\n",
    "\n",
    "## 2. Euclidean distance (*)\n",
    "\n",
    "The formula for Euclidean distance in 2D between $P: (p_1, p_2)$ and $Q: (q_1, q_2)$  is: \n",
    "\n",
    "$d(P,Q) = \\sqrt{(p_1-q_1)^2 + (p_2-q_2)^2}$\n",
    "\n",
    "&nbsp; a) &nbsp; Create a function that takes two points as input parameters and return the Euclidean between them. (*)\n",
    "\n",
    "&nbsp; b) &nbsp; Let the user input two points. Call the function using the users input points. (*)\n",
    "\n",
    "&nbsp; c) &nbsp; Use your function to calculate distances between the origin (0, 0) and each of these points: (10, 3), (-1, -9), (10, -10), (4, -2), (9, -10). (*)\n",
    "\n",
    "<details>\n",
    "\n",
    "<summary>Hint</summary>\n",
    "\n",
    "Use a **for** statement\n",
    "\n",
    "</details>\n",
    "<br>\n",
    "<details>\n",
    "\n",
    "<summary>Answer</summary>\n",
    "\n",
    "c)\n",
    "\n",
    "```\n",
    "[10.4, 9.1, 14.1, 4.5, 13.5]\n",
    "```\n",
    "\n",
    "</details>\n"
   ]
  },
  {
   "cell_type": "code",
   "execution_count": 18,
   "metadata": {},
   "outputs": [
    {
     "name": "stdout",
     "output_type": "stream",
     "text": [
      " The euclidean fistance for P and Q is 3.61\n"
     ]
    }
   ],
   "source": [
    "# a) \n",
    "def euclidean_distance(point_1, point_2):\n",
    "    p1,p2 = point_1\n",
    "    q1,q2 = point_2\n",
    "    formula = ((p1-q1)**2 + (p2-q2)**2)**.5\n",
    "    return formula\n",
    "\n",
    "p = 2,3\n",
    "q = 4,0\n",
    "distance  = euclidean_distance(p, q)\n",
    "\n",
    "print(f\" The euclidean distance for P and Q is {distance:.2f}\")"
   ]
  },
  {
   "cell_type": "code",
   "execution_count": 20,
   "metadata": {},
   "outputs": [
    {
     "name": "stdout",
     "output_type": "stream",
     "text": [
      " The inputed euclidean distance for P and Q is 3.61\n"
     ]
    }
   ],
   "source": [
    "# b)\n",
    "p_input = int(input(\"input p1\")), int(input(\"input p2\"))\n",
    "q_input = int(input(\"input q1\")), int(input(\"input q2\"))\n",
    "distance_inputed = euclidean_distance(p_input, q_input)\n",
    "\n",
    "\n",
    "print(f\" The inputed euclidean distance for P and Q is {distance_inputed:.2f}\")"
   ]
  },
  {
   "cell_type": "code",
   "execution_count": 28,
   "metadata": {},
   "outputs": [
    {
     "name": "stdout",
     "output_type": "stream",
     "text": [
      "[10.44, 9.06, 14.14, 4.47, 13.45]\n"
     ]
    }
   ],
   "source": [
    "# c) \n",
    "\n",
    "lists_euclidean_points = []\n",
    "\n",
    "for i in range(5):\n",
    "    p_loop_input = 0,0\n",
    "    q_loop_input = int(input(\"input q1\")), int(input(\"input q2\"))\n",
    "    distance_inputed_loop = euclidean_distance(p_loop_input, q_loop_input)\n",
    "    lists_euclidean_points.append(round(distance_inputed_loop, 2))\n",
    "    \n",
    "print(lists_euclidean_points)\n",
    "\n",
    "\n"
   ]
  },
  {
   "cell_type": "markdown",
   "metadata": {},
   "source": [
    "---\n",
    "## 3. Mathematical functions (*)\n",
    "\n",
    "Make the following functions with **def** or **lambda** and plot their graphs in the same figure window, with $x\\in [-10,10]$ :\n",
    "\n",
    "&nbsp; a) &nbsp;  $f(x) = x^2 -3$ (*)\n",
    "\n",
    "&nbsp; b) &nbsp; $g(x) = 4x-7$ (*)\n",
    "\n",
    "What could the relation between $f(x)$ and $g(x)$ be?\n",
    "\n",
    "<details>\n",
    "\n",
    "<summary>Hint</summary>\n",
    "Use numpy's linspace function:\n",
    "\n",
    "```python\n",
    "import numpy as np\n",
    "x = np.linspace(-10,10)\n",
    "```\n",
    "\n",
    "[Derivative video][derivative_video] (Swedish)\n",
    "\n",
    "[Derivative of polynomials][derivative_polynomial] (Swedish)\n",
    "\n",
    "[derivative_video]: https://www.youtube.com/watch?v=hzXJxOXkU_M\n",
    "[derivative_polynomial]: https://www.youtube.com/watch?v=dFnro1sBn1Y\n",
    "\n",
    "</details>\n",
    "<br>\n",
    "<details>\n",
    "\n",
    "<summary>Answer</summary>\n",
    "\n",
    "<img align=\"left\" src=\"../assets/functions_graph.png\" width=\"200\"/>\n",
    "\n",
    "</details>\n"
   ]
  },
  {
   "cell_type": "code",
   "execution_count": 86,
   "metadata": {},
   "outputs": [
    {
     "data": {
      "image/png": "[encoded data removed]",
      "text/plain": [
       "<Figure size 1000x1000 with 1 Axes>"
      ]
     },
     "metadata": {},
     "output_type": "display_data"
    }
   ],
   "source": [
    "import numpy as np\n",
    "import matplotlib.pyplot as plt\n",
    "\n",
    "x = np.linspace (-10, 10)\n",
    "function_lambda_f = lambda x : x**2 - 3\n",
    "function_lambda_g = lambda x : 4*x - 7\n",
    "\n",
    "plt.figure(figsize=(10, 10))\n",
    "plt.plot(x, function_lambda_f(x), label=\"f(x) = x^2 - 3\", color=\"red\")\n",
    "plt.plot(x, function_lambda_g(x), label=\"g(x) = 4x - 7\", color=\"blue\")\n",
    "plt.title(\"Mathematical functions for graphs of f(x) and g(x)\")\n",
    "plt.xlabel(\"x - axes\")\n",
    "plt.ylabel(\"y - axes\")\n",
    "plt.axhline(0, color=\"black\", lw=0.5)\n",
    "plt.axvline(0, color=\"black\", lw=0.5)\n",
    "plt.xticks(range(-10,11,1))\n",
    "plt.yticks(range(-10,11,1))\n",
    "plt.xlim(-10,10)\n",
    "plt.ylim(-10,10)\n",
    "plt.legend()\n",
    "plt.grid()\n",
    "\n"
   ]
  },
  {
   "cell_type": "markdown",
   "metadata": {},
   "source": []
  },
  {
   "cell_type": "markdown",
   "metadata": {},
   "source": [
    "---\n",
    "## 4. Name cleaner (*)\n",
    "\n",
    "Create a function that takes a name as an input and:\n",
    "\n",
    "- removes all leading and trailing blank spaces\n",
    "- make capitalize the first character of each name, and make the rest lowercase\n",
    "\n",
    "Use your function on this list of strings: \n",
    "\n",
    "```\n",
    "[\"  MaRcUs \", \" iDA aNderSon\", \"OLOF Olofsson            \"  ]\n",
    "```\n",
    "\n",
    "\n",
    "<details>\n",
    "\n",
    "<summary>Hint</summary>\n",
    "Use \n",
    "\n",
    "- [title() method][str_title]\n",
    "- [strip() method][str_strip]\n",
    "- [join() method][str_join]\n",
    "- [split() method][str_split]\n",
    "\n",
    "[str_title]: https://www.w3schools.com/python/ref_string_title.asp\n",
    "[str_strip]: https://www.w3schools.com/python/ref_string_strip.asp\n",
    "[str_join]: https://www.w3schools.com/python/ref_string_join.asp\n",
    "[str_split]: https://www.w3schools.com/python/ref_string_split.asp \n",
    "\n",
    "</details>\n",
    "<br>\n",
    "<details>\n",
    "\n",
    "<summary>Answer</summary>\n",
    "\n",
    "```\n",
    "Marcus\n",
    "Ida Anderson\n",
    "Olof Olofsson\n",
    "```\n",
    "\n",
    "</details>\n"
   ]
  },
  {
   "cell_type": "code",
   "execution_count": 99,
   "metadata": {},
   "outputs": [
    {
     "name": "stdout",
     "output_type": "stream",
     "text": [
      "['Asdsad', 'Fdsfs']\n",
      "['Marcus', 'Ida Anderson', 'Olof Olofsson']\n"
     ]
    }
   ],
   "source": [
    "cleaned_list = []\n",
    "def name_input(names):\n",
    "    for name in range(names):\n",
    "        name = str(input(\"Please input your name\"))\n",
    "        name_cleaner = name.strip().title()\n",
    "        cleaned_list.append(name_cleaner)\n",
    "        \n",
    "name_input(int(input(\"How many names world you like to input\")))\n",
    "print(cleaned_list)\n",
    "        \n",
    "# sample_list = [\"  MaRcUs \", \" iDA aNderSon\", \"OLOF Olofsson            \"  ]\n",
    "# cleaned_sample_list = []\n",
    "# def name_input_sample():\n",
    "#     for name in sample_list:\n",
    "#         name_cleaner = name.strip().title()\n",
    "#         cleaned_sample_list.append(name_cleaner)\n",
    "#     print(cleaned_sample_list)\n",
    "\n",
    "# name_input_sample()"
   ]
  },
  {
   "cell_type": "code",
   "execution_count": null,
   "metadata": {},
   "outputs": [],
   "source": []
  },
  {
   "cell_type": "markdown",
   "metadata": {},
   "source": [
    "---\n",
    "## 5. Change (**)\n",
    "\n",
    "Create a function that takes a value as input parameter and print out the banknotes and coins in Swedish currency representing this value. For example 5289 would give the following printout: \n",
    "\n",
    "- 5st 1000-lapp\n",
    "- 1st 200-lapp\n",
    "- 1st 50-lapp\n",
    "- 1st 20-lapp\n",
    "- 1st 10-krona\n",
    "- 1st 5-krona\n",
    "- 2st 2-krona\n",
    "\n",
    "Now let the user input a value, and use the function to calculate the change."
   ]
  },
  {
   "cell_type": "code",
   "execution_count": 111,
   "metadata": {},
   "outputs": [
    {
     "name": "stdout",
     "output_type": "stream",
     "text": [
      "Thousand notes : 548 \n",
      " Five_hundred notes : 1 \n",
      " Two_hundred notes : 0 \n",
      " Hundred notes : 1 \n",
      " Fifty notes: 0 \n",
      " Twenty notes: 2 \n",
      " Ten coins : 0 \n",
      " Five coins : 0 \n",
      " Two coins : 1 \n",
      " One coins : 1\n"
     ]
    }
   ],
   "source": [
    "thousand = 0\n",
    "five_hundred = 0\n",
    "two_hundred = 0\n",
    "hundred = 0\n",
    "fifty = 0\n",
    "twenty = 0\n",
    "ten = 0\n",
    "five = 0\n",
    "two = 0\n",
    "one = 0\n",
    "\n",
    "def cash(balance):\n",
    "    while balance > 0:\n",
    "        if balance >= 1000:\n",
    "            balance -= 1000\n",
    "            global thousand \n",
    "            thousand += 1\n",
    "        elif balance >= 500:\n",
    "            balance -= 500\n",
    "            global five_hundred \n",
    "            five_hundred += 1\n",
    "        elif balance >= 200:\n",
    "            balance -= 200\n",
    "            global two_hundred\n",
    "            two_hundred += 1\n",
    "        elif balance >= 100:\n",
    "            balance -= 100\n",
    "            global hundred \n",
    "            hundred += 1\n",
    "        elif balance >= 50:\n",
    "            balance -= 50\n",
    "            global fifty\n",
    "            fifty += 1\n",
    "        elif balance >= 20:\n",
    "            balance -= 20\n",
    "            global twenty\n",
    "            twenty += 1\n",
    "        elif balance >= 10:\n",
    "            balance -= 10\n",
    "            global ten\n",
    "            ten += 1\n",
    "        elif balance >= 5:\n",
    "            balance -= 5\n",
    "            global five\n",
    "            five += 1\n",
    "        elif balance >= 2:\n",
    "            balance -= 2\n",
    "            global two\n",
    "            two += 1\n",
    "        else:\n",
    "            balance -= 1\n",
    "            global one\n",
    "            one += 1\n",
    "\n",
    "             \n",
    "\n",
    "balance = int(input(\"How much balance you got?\"))\n",
    "cash(balance)\n",
    "\n",
    "print(f\"Thousand notes : {thousand} \\n Five_hundred notes : {five_hundred} \\n Two_hundred notes : {two_hundred} \\n Hundred notes : {hundred} \\n Fifty notes: {fifty} \\n Twenty notes: {twenty} \\n Ten coins : {ten} \\n Five coins : {five} \\n Two coins : {two} \\n One coins : {one}\")\n",
    "        \n",
    "    "
   ]
  },
  {
   "cell_type": "markdown",
   "metadata": {},
   "source": [
    "---\n",
    "\n",
    "pr0fez Giang\n",
    "\n",
    "[LinkedIn][linkedIn_pr0fez]\n",
    "\n",
    "[GitHub portfolio][github_portfolio]\n",
    "\n",
    "[linkedIn_pr0fez]: https://www.linkedin.com/in/pr0fezgiang/\n",
    "[github_portfolio]: https://github.com/pr0fez/Portfolio-pr0fez-Giang\n",
    "\n",
    "---"
   ]
  }
 ],
 "metadata": {
  "kernelspec": {
   "display_name": ".venv",
   "language": "python",
   "name": "python3"
  },
  "language_info": {
   "codemirror_mode": {
    "name": "ipython",
    "version": 3
   },
   "file_extension": ".py",
   "mimetype": "text/x-python",
   "name": "python",
   "nbconvert_exporter": "python",
   "pygments_lexer": "ipython3",
   "version": "3.11.0"
  },
  "orig_nbformat": 4
 },
 "nbformat": 4,
 "nbformat_minor": 2
}
