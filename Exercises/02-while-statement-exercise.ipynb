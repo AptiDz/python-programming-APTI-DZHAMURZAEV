{
 "cells": [
  {
   "cell_type": "markdown",
   "metadata": {},
   "source": [
    "<a href=\"https://colab.research.google.com/github/pr0fez/AI24-Programmering/blob/master/Exercises/02-while-statement-exercise.ipynb\" target=\"_parent\"><img align=\"left\" src=\"https://colab.research.google.com/assets/colab-badge.svg\" alt=\"Open In Colab\"/></a> &nbsp; to see hints and answers."
   ]
  },
  {
   "cell_type": "markdown",
   "metadata": {},
   "source": [
    "# while statement exercises\n",
    "\n",
    "---\n",
    "These are introductory exercises in Python with focus in **while** statement.\n",
    "\n",
    "<p class = \"alert alert-info\" role=\"alert\"><b>Remember</b> to use <b>descriptive variable names</b> in order to get readable code </p>\n",
    "\n",
    "<p class = \"alert alert-info\" role=\"alert\"><b>Remember</b> to format your answers in a neat way using <b>f-strings</b>\n",
    "\n",
    "<p class = \"alert alert-info\" role=\"alert\"><b>Remember</b> to format your input questions in a pedagogical way to guide the user\n",
    "\n",
    "The number of stars (\\*), (\\*\\*), (\\*\\*\\*) denotes the difficulty level of the task\n",
    "\n",
    "---"
   ]
  },
  {
   "cell_type": "markdown",
   "metadata": {},
   "source": [
    "## 1. Count numbers (*)\n",
    "\n",
    "Use a **while** statement to count from -10 to 10 with one increment. \n",
    "\n",
    "<details>\n",
    "\n",
    "<summary>Hint </summary>\n",
    "\n",
    "```python\n",
    "\n",
    "i += 1 # adds one and assigns it to i, equivalent to i = i + 1\n",
    "```\n",
    "\n",
    "</details>\n",
    "<br>\n",
    "<details>\n",
    "\n",
    "<summary>Answer </summary>\n",
    "\n",
    "```\n",
    "\n",
    "-10 -9 -8 -7 -6 -5 -4 -3 -2 -1 0 1 2 3 4 5 6 7 8 9 10\n",
    "```\n",
    "\n",
    "</details>\n"
   ]
  },
  {
   "cell_type": "code",
   "execution_count": 7,
   "metadata": {},
   "outputs": [
    {
     "name": "stdout",
     "output_type": "stream",
     "text": [
      "-10 -9 -8 -7 -6 -5 -4 -3 -2 -1 0 1 2 3 4 5 6 7 8 9 10 "
     ]
    }
   ],
   "source": [
    "count = -10\n",
    "while count <= 10: \n",
    "    print(count, end=\" \")\n",
    "    count += 1\n",
    "\n"
   ]
  },
  {
   "cell_type": "markdown",
   "metadata": {},
   "source": [
    "--- \n",
    "## 2. Arithmetic sum (*)\n",
    "Use a **while** statement to compute the following sums: \n",
    "\n",
    "&nbsp; a) &nbsp; $\\text{sum} = 1 + 2 + \\ldots + 99+ 100$\n",
    "\n",
    "&nbsp; b) &nbsp; $\\text{sum} = 1 + 3 + 5 + \\ldots + 97 + 99$\n",
    "\n",
    "<details>\n",
    "\n",
    "<summary>Answer </summary>\n",
    "\n",
    "```\n",
    "a) 1 + 2 + ... + 99 + 100 = 5050 \n",
    "\n",
    "b) 1 + 3 + 5 +...+ 97 + 99 = 2500\n",
    "```\n",
    "\n",
    "</details>"
   ]
  },
  {
   "cell_type": "code",
   "execution_count": 8,
   "metadata": {},
   "outputs": [
    {
     "name": "stdout",
     "output_type": "stream",
     "text": [
      "1 + 2 + 3 + 4 + 5 + 6 + 7 + 8 + 9 + 10 + 11 + 12 + 13 + 14 + 15 + 16 + 17 + 18 + 19 + 20 + 21 + 22 + 23 + 24 + 25 + 26 + 27 + 28 + 29 + 30 + 31 + 32 + 33 + 34 + 35 + 36 + 37 + 38 + 39 + 40 + 41 + 42 + 43 + 44 + 45 + 46 + 47 + 48 + 49 + 50 + 51 + 52 + 53 + 54 + 55 + 56 + 57 + 58 + 59 + 60 + 61 + 62 + 63 + 64 + 65 + 66 + 67 + 68 + 69 + 70 + 71 + 72 + 73 + 74 + 75 + 76 + 77 + 78 + 79 + 80 + 81 + 82 + 83 + 84 + 85 + 86 + 87 + 88 + 89 + 90 + 91 + 92 + 93 + 94 + 95 + 96 + 97 + 98 + 99 + 100 = 5050\n"
     ]
    }
   ],
   "source": [
    "# a)\n",
    "\n",
    "count = 1\n",
    "sum = 0\n",
    "while count < 100: \n",
    "    print(count, end=\" + \")\n",
    "    sum += count\n",
    "    count += 1\n",
    "while count == 100:\n",
    "    print(count, end=\"\")\n",
    "    sum += count\n",
    "    count += 1\n",
    "    \n",
    "print(f\" = {sum}\")"
   ]
  },
  {
   "cell_type": "code",
   "execution_count": 9,
   "metadata": {},
   "outputs": [
    {
     "name": "stdout",
     "output_type": "stream",
     "text": [
      "1 + 3 + 5 + 7 + 9 + 11 + 13 + 15 + 17 + 19 + 21 + 23 + 25 + 27 + 29 + 31 + 33 + 35 + 37 + 39 + 41 + 43 + 45 + 47 + 49 + 51 + 53 + 55 + 57 + 59 + 61 + 63 + 65 + 67 + 69 + 71 + 73 + 75 + 77 + 79 + 81 + 83 + 85 + 87 + 89 + 91 + 93 + 95 + 97 + 99 = 2500\n"
     ]
    }
   ],
   "source": [
    "# b)\n",
    "\n",
    "count = 1\n",
    "sum = 0\n",
    "while count < 99: \n",
    "    print(count, end=\" + \")\n",
    "    sum += count\n",
    "    count += 2\n",
    "while count == 99:\n",
    "    print(count, end=\"\")\n",
    "    sum += count\n",
    "    count += 2\n",
    "    \n",
    "print(f\" = {sum}\")"
   ]
  },
  {
   "cell_type": "markdown",
   "metadata": {},
   "source": [
    "--- \n",
    "## 3. Guess number game (*)\n",
    "&nbsp; a) &nbsp; Create a guessing number game following this flow chart: \n",
    "\n",
    "<img align=\"left\" src=\"../assets/guessing_game.png\" width=\"300\"/>"
   ]
  },
  {
   "cell_type": "markdown",
   "metadata": {},
   "source": [
    "&nbsp; b) &nbsp; Make an algorithm to automatically guess the correct number. Can you optimize to get as few guesses as possible? (**)\n",
    "\n",
    "<details>\n",
    "\n",
    "<summary>Hint </summary>\n",
    "\n",
    "&nbsp; b) &nbsp; Half your testing number each time \n",
    "\n",
    "</details>"
   ]
  },
  {
   "cell_type": "code",
   "execution_count": 46,
   "metadata": {},
   "outputs": [
    {
     "name": "stdout",
     "output_type": "stream",
     "text": [
      "Wrong guess 50, The number is to high. The number of guesses is 1\n",
      "Wrong guess 25, The number is to low. The number of guesses is 2\n",
      "Wrong guess 35, The number is to high. The number of guesses is 3\n",
      "Wrong guess 30, The number is to low. The number of guesses is 4\n",
      "Wrong guess 27, The number is to low. The number of guesses is 5\n",
      "Wrong guess 28, The number is to low. The number of guesses is 6\n",
      "Wrong guess 29, The number is to low. The number of guesses is 7\n",
      "Wrong guess 31, The number is to low. The number of guesses is 8\n",
      "Wrong guess 32, The number is to low. The number of guesses is 9\n",
      "Congratulations, your guessed number 33 which is correct. The number of guesses is 10\n"
     ]
    }
   ],
   "source": [
    "# a)\n",
    "\n",
    "import random as rnd\n",
    "number_of_guesses = 0\n",
    "random_number = rnd.randint(1, 100)\n",
    "guess_number = 0\n",
    "\n",
    "while random_number != guess_number:\n",
    "    guess_number = int(input(\"Guess the number it has to be integer\"))\n",
    "    number_of_guesses += 1\n",
    "    \n",
    "    if random_number == guess_number:\n",
    "        print(f\"Congratulations, your guessed number {guess_number} which is correct. The number of guesses is {number_of_guesses}\")\n",
    "    elif guess_number > random_number:\n",
    "        print(f\"Wrong guess {guess_number}, The number is to high. The number of guesses is {number_of_guesses}\")\n",
    "    else:\n",
    "        print(f\"Wrong guess {guess_number}, The number is to low. The number of guesses is {number_of_guesses}\")"
   ]
  },
  {
   "cell_type": "code",
   "execution_count": 51,
   "metadata": {},
   "outputs": [
    {
     "name": "stdout",
     "output_type": "stream",
     "text": [
      "Wrong guess 50, The number is to high. The number of guesses is 1\n",
      "Wrong guess 25, The number is to high. The number of guesses is 2\n",
      "Wrong guess 12, The number is to high. The number of guesses is 3\n",
      "Wrong guess 6, The number is to high. The number of guesses is 4\n",
      "Wrong guess 3, The number is to low. The number of guesses is 5\n",
      "Congratulations, your guessed number 4 which is correct. The number of guesses is 6\n"
     ]
    }
   ],
   "source": [
    "#b)\n",
    "\n",
    "import random as rnd\n",
    "number_of_guesses = 0\n",
    "random_number = rnd.randint(1, 100)\n",
    "guess_number = 0\n",
    "hög = 100\n",
    "låg = 1\n",
    "\n",
    "while random_number != guess_number:\n",
    "    \n",
    "    guess_number = (hög + låg) // 2\n",
    "    number_of_guesses += 1\n",
    "    \n",
    "    \n",
    "    if random_number == guess_number:\n",
    "        print(f\"Congratulations, your guessed number {guess_number} which is correct. The number of guesses is {number_of_guesses}\")\n",
    "    \n",
    "    elif guess_number > random_number:\n",
    "        print(f\"Wrong guess {guess_number}, The number is to high. The number of guesses is {number_of_guesses}\")\n",
    "        hög = guess_number - 1\n",
    "    else:\n",
    "        print(f\"Wrong guess {guess_number}, The number is to low. The number of guesses is {number_of_guesses}\")\n",
    "        låg = guess_number + 1\n",
    "        \n",
    "    "
   ]
  },
  {
   "cell_type": "markdown",
   "metadata": {},
   "source": [
    "--- \n",
    "## 4. Multiplication game (*)\n",
    "&nbsp; a) &nbsp; Create a multiplication game following this flow chart: \n",
    "\n",
    "<img align=\"left\" src=\"../assets/Multiplication_game.png\" width=\"300\"/>"
   ]
  },
  {
   "cell_type": "markdown",
   "metadata": {},
   "source": [
    "&nbsp; b) &nbsp; Add a menu for choosing difficulty level of the game\n",
    "\n",
    "&nbsp; c) &nbsp; Feel free to extend this program with features of your choice."
   ]
  },
  {
   "cell_type": "code",
   "execution_count": 9,
   "metadata": {},
   "outputs": [
    {
     "name": "stdout",
     "output_type": "stream",
     "text": [
      "User your turn to guess. Now input x and y its suppose to be integer between 1 and 10, they will be multiplied\n"
     ]
    },
    {
     "ename": "ValueError",
     "evalue": "invalid literal for int() with base 10: ''",
     "output_type": "error",
     "traceback": [
      "\u001b[1;31m---------------------------------------------------------------------------\u001b[0m",
      "\u001b[1;31mValueError\u001b[0m                                Traceback (most recent call last)",
      "Cell \u001b[1;32mIn[9], line 14\u001b[0m\n\u001b[0;32m     11\u001b[0m \u001b[38;5;28mprint\u001b[39m(\u001b[38;5;124m\"\u001b[39m\u001b[38;5;124mUser your turn to guess. Now input x and y its suppose to be integer between 1 and 10, they will be multiplied\u001b[39m\u001b[38;5;124m\"\u001b[39m)\n\u001b[0;32m     13\u001b[0m \u001b[38;5;28;01mwhile\u001b[39;00m \u001b[38;5;28;01mTrue\u001b[39;00m:\n\u001b[1;32m---> 14\u001b[0m     xinput \u001b[38;5;241m=\u001b[39m \u001b[38;5;28;43mint\u001b[39;49m\u001b[43m(\u001b[49m\u001b[38;5;28;43minput\u001b[39;49m\u001b[43m(\u001b[49m\u001b[38;5;124;43m\"\u001b[39;49m\u001b[38;5;124;43mx\u001b[39;49m\u001b[38;5;124;43m\"\u001b[39;49m\u001b[43m)\u001b[49m\u001b[43m)\u001b[49m\n\u001b[0;32m     16\u001b[0m     \u001b[38;5;28;01mif\u001b[39;00m \u001b[38;5;241m1\u001b[39m \u001b[38;5;241m>\u001b[39m xinput \u001b[38;5;129;01mor\u001b[39;00m xinput \u001b[38;5;241m>\u001b[39m \u001b[38;5;241m10\u001b[39m: \n\u001b[0;32m     17\u001b[0m         \u001b[38;5;28mprint\u001b[39m(\u001b[38;5;124m\"\u001b[39m\u001b[38;5;124mwrong input\u001b[39m\u001b[38;5;124m\"\u001b[39m)\n",
      "\u001b[1;31mValueError\u001b[0m: invalid literal for int() with base 10: ''"
     ]
    }
   ],
   "source": [
    "# a)\n",
    "\n",
    "import random as rnd\n",
    "xrandom = rnd.randint(1, 10)\n",
    "yrandom = rnd.randint(1, 10)\n",
    "xyrandom = xrandom * yrandom\n",
    "score = 100\n",
    "icrement = 0\n",
    "\n",
    "while True:\n",
    "    print(\"User your turn to guess. Now input x and y its suppose to be integer between 1 and 10, they will be multiplied\")\n",
    "\n",
    "    while True:\n",
    "        xinput = int(input(\"x\"))\n",
    "    \n",
    "        if 1 > xinput or xinput > 10: \n",
    "            print(\"wrong input\")\n",
    "\n",
    "        else: \n",
    "            break\n",
    "  \n",
    "    \n",
    "    while True:    \n",
    "        yinput = int(input(\"y\"))\n",
    "    \n",
    "        if 1 > yinput or yinput > 10: \n",
    "            print(\"wrong input\")\n",
    "\n",
    "        else: \n",
    "            break\n",
    "    \n",
    "    \n",
    "    xyinput = xinput * yinput\n",
    "    icrement += 1\n",
    "    score = score / icrement\n",
    "\n",
    "    if xyinput == xyrandom:\n",
    "        print(f\"Good Work, correct! Your score is {score}\")\n",
    "        \n",
    "    else:\n",
    "        print(f\"Wrong guess, the correct guess is {xyrandom}\")\n",
    "    \n",
    "\n",
    "    playagain = input(\"Would you like to play again? input y for yes anything else is no\")\n",
    "    \n",
    "    if playagain != \"y\":\n",
    "        print(\"Thanks for playing\")\n",
    "        break\n",
    "\n",
    "    \n",
    "\n",
    "\n",
    "\n"
   ]
  },
  {
   "cell_type": "code",
   "execution_count": 15,
   "metadata": {},
   "outputs": [
    {
     "ename": "TypeError",
     "evalue": "'int' object is not callable",
     "output_type": "error",
     "traceback": [
      "\u001b[1;31m---------------------------------------------------------------------------\u001b[0m",
      "\u001b[1;31mTypeError\u001b[0m                                 Traceback (most recent call last)",
      "Cell \u001b[1;32mIn[16], line 7\u001b[0m\n\u001b[0;32m      4\u001b[0m icrement \u001b[38;5;241m=\u001b[39m \u001b[38;5;241m0\u001b[39m\n\u001b[0;32m      6\u001b[0m \u001b[38;5;28;01mwhile\u001b[39;00m \u001b[38;5;28;01mTrue\u001b[39;00m:\n\u001b[1;32m----> 7\u001b[0m    difficulty \u001b[38;5;241m=\u001b[39m \u001b[38;5;28mint\u001b[39m(\u001b[38;5;28;43minput\u001b[39;49m\u001b[43m(\u001b[49m\u001b[38;5;124;43m\"\u001b[39;49m\u001b[38;5;124;43mChose your difficulty. 1 for easy, 2 for normal and 3 for hard\u001b[39;49m\u001b[38;5;124;43m\"\u001b[39;49m\u001b[43m)\u001b[49m)\n\u001b[0;32m      8\u001b[0m    \u001b[38;5;28;01mif\u001b[39;00m \u001b[38;5;241m1\u001b[39m \u001b[38;5;241m<\u001b[39m\u001b[38;5;241m=\u001b[39m difficulty \u001b[38;5;241m<\u001b[39m\u001b[38;5;241m=\u001b[39m \u001b[38;5;241m3\u001b[39m:\n\u001b[0;32m      9\u001b[0m        \u001b[38;5;28;01mbreak\u001b[39;00m\n",
      "\u001b[1;31mTypeError\u001b[0m: 'int' object is not callable"
     ]
    }
   ],
   "source": [
    " # b)\n",
    "\n",
    "import random as rnd\n",
    "icrement = 0\n",
    "\n",
    "while True:\n",
    "    difficulty = int(input(\"Chose your difficulty. 1 for easy, 2 for normal and 3 for hard\"))\n",
    "    if 1 <= difficulty <= 3:\n",
    "        break\n",
    "    else:\n",
    "        print(\"Wrong input\") \n",
    "        \n",
    "     \n",
    "if difficulty == 1:\n",
    "    xrandom = rnd.randint(1, 2)\n",
    "    yrandom = rnd.randint(1, 2)\n",
    "               \n",
    "elif difficulty == 2:\n",
    "     xrandom = rnd.randint(1, 5)\n",
    "     yrandom = rnd.randint(1, 5)\n",
    "                     \n",
    "else:\n",
    "    xrandom = rnd.randint(1, 10)\n",
    "    yrandom = rnd.randint(1, 10)\n",
    "       \n",
    "xyrandom = xrandom * yrandom\n",
    "score = 100\n",
    "    \n",
    "       \n",
    "while True:\n",
    "    \n",
    "    if difficulty == 1:\n",
    "        difficultscore = 2\n",
    "        print(\"User your turn to guess. Now input x and y. Each suppose to be integer between 1 and 2, they will be multiplied\")\n",
    "            \n",
    "    elif difficulty == 2:\n",
    "        difficultscore = 5\n",
    "        print(\"User your turn to guess. Now input x and y. Each suppose to be integer between 1 and 5, they will be multiplied\")\n",
    "        \n",
    "    else: \n",
    "        difficultscore = 10\n",
    "        print(\"User your turn to guess. Now input x and y. Each suppose to be integer between 1 and 10, they will be multiplied\")\n",
    "        \n",
    "\n",
    "    while True:\n",
    "        \n",
    "        input = int(input(\"x\"))\n",
    "    \n",
    "        if 1 > xinput or xinput > difficultscore: \n",
    "                print(\"wrong input\")\n",
    "\n",
    "        else: \n",
    "            break\n",
    "  \n",
    "    \n",
    "           \n",
    "        yinput = int(input(\"y\"))\n",
    "    \n",
    "        if 1 > yinput or yinput > difficultscore: \n",
    "                print(\"wrong input\")\n",
    "\n",
    "        else: \n",
    "            break\n",
    "    \n",
    "    \n",
    "        xyinput = xinput * yinput\n",
    "        icrement += 1\n",
    "        score = score / icrement\n",
    "\n",
    "        if xyinput == xyrandom:\n",
    "            print(f\"Good Work, correct! Your score is {score}\")\n",
    "        \n",
    "        elif xyinput != xyrandom and icrement == 1:\n",
    "            print(f\"Wrong guess, the correct number of x {xrandom}\")\n",
    "        \n",
    "        else:\n",
    "            print(f\"Wrong guess, the correct guess is {xyrandom}\")\n",
    "\n",
    "        \n",
    "\n",
    "    playagain = input(\"Would you like to play again? input y for yes anything else is no\")\n",
    "    \n",
    "    if playagain != \"y\":\n",
    "        print(\"Thanks for playing\")\n",
    "        break\n",
    "\n"
   ]
  },
  {
   "cell_type": "markdown",
   "metadata": {},
   "source": [
    "---\n",
    "\n",
    "pr0fez Giang\n",
    "\n",
    "[LinkedIn][linkedIn_pr0fez]\n",
    "\n",
    "[GitHub portfolio][github_portfolio]\n",
    "\n",
    "[linkedIn_pr0fez]: https://www.linkedin.com/in/pr0fezgiang/\n",
    "[github_portfolio]: https://github.com/pr0fez/Portfolio-pr0fez-Giang\n",
    "\n",
    "---"
   ]
  }
 ],
 "metadata": {
  "kernelspec": {
   "display_name": "Python 3.9.6 64-bit",
   "language": "python",
   "name": "python3"
  },
  "language_info": {
   "codemirror_mode": {
    "name": "ipython",
    "version": 3
   },
   "file_extension": ".py",
   "mimetype": "text/x-python",
   "name": "python",
   "nbconvert_exporter": "python",
   "pygments_lexer": "ipython3",
   "version": "3.11.0"
  },
  "orig_nbformat": 4,
  "vscode": {
   "interpreter": {
    "hash": "0da836a34428266995a795f1e1e27b816fa1c02f148d9728b3fbbbc5459afca6"
   }
  }
 },
 "nbformat": 4,
 "nbformat_minor": 2
}
