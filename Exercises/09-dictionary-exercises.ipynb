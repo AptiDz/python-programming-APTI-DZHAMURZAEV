{
 "cells": [
  {
   "cell_type": "markdown",
   "metadata": {},
   "source": [
    "\n",
    "<a href=\"https://colab.research.google.com/github/pr0fez/AI24-Programmering/blob/master/Exercises/09-dictionary-exercises.ipynb\" target=\"_parent\"><img align=\"left\" src=\"https://colab.research.google.com/assets/colab-badge.svg\" alt=\"Open In Colab\"/></a> &nbsp; to see hints and answers."
   ]
  },
  {
   "cell_type": "markdown",
   "metadata": {},
   "source": [
    "# dictionary exercises\n",
    "\n",
    "---\n",
    "These are introductory exercises in Python with focus in **dictionary**.\n",
    "\n",
    "<p class = \"alert alert-info\" role=\"alert\"><b>Remember</b> to use <b>descriptive variable and function names</b> in order to get readable code </p>\n",
    "\n",
    "<p class = \"alert alert-info\" role=\"alert\"><b>Remember</b> to format your answers in a neat way using <b>f-strings</b>\n",
    "\n",
    "<p class = \"alert alert-info\" role=\"alert\"><b>Remember</b> to format your input questions in a pedagogical way to guide the user\n",
    "\n",
    "The number of stars (\\*), (\\*\\*), (\\*\\*\\*) denotes the difficulty level of the task\n",
    "\n",
    "---"
   ]
  },
  {
   "cell_type": "markdown",
   "metadata": {},
   "source": [
    "## 1. Curriculum (*)\n",
    "\n",
    "Create a dictionary containing all the courses that you will study in this program, with the course names as **keys** and the amount of points as **value**. Then calculate the number of points that you will study in total. (*)\n",
    "\n",
    "<details>\n",
    "\n",
    "<summary>Answer</summary>\n",
    "\n",
    "Look at your course program curriculum\n",
    "\n",
    "</details>\n"
   ]
  },
  {
   "cell_type": "code",
   "execution_count": 10,
   "metadata": {},
   "outputs": [
    {
     "name": "stdout",
     "output_type": "stream",
     "text": [
      "400\n"
     ]
    }
   ],
   "source": [
    "courses = {\"Introduktionskurs Till AI\" : \"5p\",\n",
    "           \"Programmering med Python\" : \"40p\",\n",
    "           \"Databehandling\" : \"25p\",\n",
    "           \"Linjär Algebra\" : \"20p\",\n",
    "           \"Statiska metoder\" : \"30p\",\n",
    "           \"Maskininlärning\" : \"45p\",\n",
    "           \"Databaser\" : \"25p\",\n",
    "           \"Data engineering och agila metoder\" : \"45p\",\n",
    "           \"LIA 1\" : \"40p\",\n",
    "           \"Djup Maskininlärning\" : \"40p\",\n",
    "           \"LIA 2\" : \"70p\",\n",
    "           \"Examensarbete\" : \"15p\"\n",
    "           }\n",
    "\n",
    "sum_the_points = sum(int(value[:-1]) for value in courses.values())\n",
    "print(sum_the_points)"
   ]
  },
  {
   "cell_type": "markdown",
   "metadata": {},
   "source": [
    "---\n",
    "## 2. Dice simulation (*)\n",
    "\n",
    "Simulate 1000000 dice rolls and save the number of ones, twos, ..., sixes in a dictionary. Then print them out in the terminal. (*)\n",
    "\n",
    "<details>\n",
    "\n",
    "<summary>Answer</summary>\n",
    "\n",
    "```\n",
    "1: 166481\n",
    "2: 166844\n",
    "3: 166154\n",
    "4: 167400\n",
    "5: 167260\n",
    "6: 165861\n",
    "```\n",
    "\n",
    "</details>\n"
   ]
  },
  {
   "cell_type": "code",
   "execution_count": 30,
   "metadata": {},
   "outputs": [
    {
     "name": "stdout",
     "output_type": "stream",
     "text": [
      "Result of the Dice Rolls\n",
      "Ones: 166243\n",
      "Twos: 167030\n",
      "Threes: 166432\n",
      "Fours: 166515\n",
      "Fives: 166659\n",
      "Sixes: 167121\n"
     ]
    }
   ],
   "source": [
    "import random as rnd\n",
    "dice_rolls = {\n",
    "    \"ones\" : 0,\n",
    "    \"twos\" : 0,\n",
    "    \"threes\" : 0,\n",
    "    \"fours\" : 0,\n",
    "    \"fives\" : 0,\n",
    "    \"sixes\" : 0\n",
    "}\n",
    "\n",
    "for i in range(1_000_000):\n",
    "    roll = rnd.randint(1,6)\n",
    "    if roll == 1:\n",
    "        dice_rolls[\"ones\"] += 1\n",
    "    elif roll == 2:\n",
    "        dice_rolls[\"twos\"] += 1\n",
    "    elif roll == 3:\n",
    "        dice_rolls[\"threes\"] += 1\n",
    "    elif roll == 4:\n",
    "        dice_rolls[\"fours\"] += 1\n",
    "    elif roll == 5:\n",
    "        dice_rolls[\"fives\"] += 1\n",
    "    else:\n",
    "        dice_rolls[\"sixes\"] += 1\n",
    "        \n",
    "print(\"Result of the Dice Rolls\")\n",
    "for k, v in dice_rolls.items():\n",
    "    print(f\"{k.capitalize()}: {v}\")"
   ]
  },
  {
   "cell_type": "markdown",
   "metadata": {},
   "source": [
    "---\n",
    "## 3. Pokemon list (*)\n",
    "\n",
    "Read in the file pokemon_list.txt in Python. Create a variable with name pokedex with the key:value **\"pokemon\":\"type, index\"**. For example when searching for the keys \"Gengar\" and \"Pikachu\": (*)\n",
    "\n",
    "```python\n",
    "\n",
    "print(pokedex[\"Gengar\"])\n",
    "print(pokedex[\"Pikachu\"])\n",
    "\n",
    "Spöke/Gift, 94\n",
    "Elektrisk, 25\n",
    "```\n",
    "\n",
    "<details>\n",
    "\n",
    "<summary>Answer</summary>\n",
    "\n",
    "```\n",
    "{'Bulbasaur': 'Gräs/Gift, 1',\n",
    " 'Ivysaur': 'Gräs/Gift, 2',\n",
    " 'Venusaur': 'Gräs/Gift, 3',\n",
    " 'Charmander': 'Eld, 4',\n",
    " 'Charmeleon': 'Eld, 5',\n",
    " 'Charizard': 'Eld/Flygande, 6',\n",
    " 'Squirtle': 'Vatten, 7',\n",
    " 'Wartortle': 'Vatten, 8',\n",
    " 'Blastoise': 'Vatten, 9',\n",
    " ...\n",
    "}\n",
    "```\n",
    "\n",
    "</details>\n"
   ]
  },
  {
   "cell_type": "code",
   "execution_count": 44,
   "metadata": {},
   "outputs": [
    {
     "name": "stdout",
     "output_type": "stream",
     "text": [
      "Normal, 132\n"
     ]
    }
   ],
   "source": [
    "pokedex = {}\n",
    "with open(\"../Data/pokemon_list.txt\", \"r\") as read_file:\n",
    "   for line in read_file:\n",
    "        column_parts = line.strip().split()\n",
    "        pokemon = column_parts[1]\n",
    "        power = column_parts[2]\n",
    "        index = column_parts[0]\n",
    "        pokedex[pokemon] = power,index\n",
    "        \n",
    "power, index = pokedex[input(\"Type name, which pokemon would you like to print information on?\")]\n",
    "print(f\"{power}, {index}\")\n",
    "        "
   ]
  },
  {
   "cell_type": "markdown",
   "metadata": {},
   "source": [
    "---\n",
    "## 4. Morse code (**)\n",
    "\n",
    "Read in the file morse.txt, save it in a dictionary and create a function that lets the user input a message to get it translated to morse code. For example  (**)\n",
    "\n",
    "```python\n",
    "\n",
    "print(morse(\"SOS\"))\n",
    "print(morse(\"POKEMON\"))\n",
    "\n",
    "...---...\n",
    ".------.-.------.\n",
    "```"
   ]
  },
  {
   "cell_type": "code",
   "execution_count": null,
   "metadata": {},
   "outputs": [],
   "source": [
    "# with open(\"../Data/morse.txt\", \"r\") as read_file:\n",
    "    "
   ]
  },
  {
   "cell_type": "markdown",
   "metadata": {},
   "source": [
    "---\n",
    "\n",
    "pr0fez Giang\n",
    "\n",
    "[LinkedIn][linkedIn_pr0fez]\n",
    "\n",
    "[GitHub portfolio][github_portfolio]\n",
    "\n",
    "[linkedIn_pr0fez]: https://www.linkedin.com/in/pr0fezgiang/\n",
    "[github_portfolio]: https://github.com/pr0fez/Portfolio-pr0fez-Giang\n",
    "\n",
    "---"
   ]
  }
 ],
 "metadata": {
  "kernelspec": {
   "display_name": ".venv",
   "language": "python",
   "name": "python3"
  },
  "language_info": {
   "codemirror_mode": {
    "name": "ipython",
    "version": 3
   },
   "file_extension": ".py",
   "mimetype": "text/x-python",
   "name": "python",
   "nbconvert_exporter": "python",
   "pygments_lexer": "ipython3",
   "version": "3.11.0"
  },
  "orig_nbformat": 4
 },
 "nbformat": 4,
 "nbformat_minor": 2
}
